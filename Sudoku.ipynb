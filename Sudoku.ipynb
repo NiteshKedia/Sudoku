{
 "metadata": {
  "name": "",
  "signature": "sha256:b31c3307c28711e74058308d10f30d5f4569c507769a3b8d54ba735e3b5594d2"
 },
 "nbformat": 3,
 "nbformat_minor": 0,
 "worksheets": [
  {
   "cells": [
    {
     "cell_type": "markdown",
     "metadata": {},
     "source": [
      "# Sudoku\n",
      "#### __Author__ : Nitesh Kedia"
     ]
    },
    {
     "cell_type": "code",
     "collapsed": false,
     "input": [
      "def isAllowed(i,j,x,input):\n",
      "                                            # check if row contains the number\n",
      "    if x in input[i,:]: \n",
      "        return False;\n",
      "                                            # check if the column contains the number\n",
      "    if x in input[:,j]:\n",
      "        return False;\n",
      "                                            # cheeck if the 3*3 box contains the number\n",
      "    for l in range(0,3):\n",
      "        for m in range(0,3):\n",
      "            if(x == input[(i/3)*3 + l][(j/3)*3 + m]):\n",
      "                return False;\n",
      "    return True;\n",
      "\n",
      "def sudokuSolver(i,j,input):\n",
      "    \n",
      "    if(i==9):\n",
      "        i=0;\n",
      "        j=j+1;\n",
      "        if(j==9):\n",
      "            return True;\n",
      "                                            #skip filled values\n",
      "    if(input[i][j]!=0):\n",
      "        return sudokuSolver(i+1,j,input);   #call for next row\n",
      "    \n",
      "    for x in range(1,10):\n",
      "        if(isAllowed(i,j,x,input)):\n",
      "            input[i][j]=x;\n",
      "            if(sudokuSolver(i+1,j,input)):  #cal for next row\n",
      "                return True;\n",
      "    input[i][j]=0;\n",
      "    return False;\n",
      "    \n",
      "    \n",
      "import csv\n",
      "import numpy as np\n",
      "input = np.zeros((9,9))\n",
      "with open('input.csv', 'rb') as f:          #Read Input from CSV\n",
      "    reader = csv.reader(f)\n",
      "    i=0;\n",
      "    for row in reader:\n",
      "        j=0;\n",
      "        for num in row:\n",
      "            input[i][j] = int(num);\n",
      "            j=j+1;\n",
      "        i=i+1;\n",
      "sudokuSolver(0,0,input)\n",
      "with open('output.csv', 'wb') as fp:       #Write Output to CSV\n",
      "    a = csv.writer(fp, delimiter=',')\n",
      "    a.writerows(input)    \n",
      "        "
     ],
     "language": "python",
     "metadata": {},
     "outputs": []
    }
   ],
   "metadata": {}
  }
 ]
}